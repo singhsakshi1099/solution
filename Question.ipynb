{
  "nbformat": 4,
  "nbformat_minor": 0,
  "metadata": {
    "colab": {
      "provenance": []
    },
    "kernelspec": {
      "name": "python3",
      "display_name": "Python 3"
    },
    "language_info": {
      "name": "python"
    }
  },
  "cells": [
    {
      "cell_type": "code",
      "execution_count": 1,
      "metadata": {
        "id": "241uiFn5ZG9q"
      },
      "outputs": [],
      "source": [
        "#Question 1\n",
        "def moveZeros(nums):\n",
        "    zero_count = 0\n",
        "    i = 0\n",
        "\n",
        "    # Count the number of zeros\n",
        "    for num in nums:\n",
        "        if num == 0:\n",
        "            zero_count += 1\n",
        "\n",
        "    # Move non-zero elements to the front\n",
        "    for num in nums:\n",
        "        if num != 0:\n",
        "            nums[i] = num\n",
        "            i += 1\n",
        "\n",
        "    # Add zeros to the end\n",
        "    while zero_count > 0:\n",
        "        nums[i] = 0\n",
        "        i += 1\n",
        "        zero_count -= 1\n",
        "\n",
        "    return nums\n"
      ]
    },
    {
      "cell_type": "code",
      "source": [
        "#Question 2\n",
        "def firstUniqChar(s):\n",
        "    char_freq = {}  # Dictionary to store character frequencies\n",
        "    \n",
        "    # Count the frequency of each character\n",
        "    for char in s:\n",
        "        char_freq[char] = char_freq.get(char, 0) + 1\n",
        "    \n",
        "    # Find the first character with frequency 1\n",
        "    for i, char in enumerate(s):\n",
        "        if char_freq[char] == 1:\n",
        "            return i\n",
        "    \n",
        "    return -1  # If no unique character is found, return -1\n"
      ],
      "metadata": {
        "id": "LYsliD4GZLRa"
      },
      "execution_count": 3,
      "outputs": []
    },
    {
      "cell_type": "code",
      "source": [],
      "metadata": {
        "id": "puDJ0_8dZY2Z"
      },
      "execution_count": null,
      "outputs": []
    }
  ]
}